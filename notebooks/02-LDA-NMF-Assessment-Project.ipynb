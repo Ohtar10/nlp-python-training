{
 "cells": [
  {
   "cell_type": "markdown",
   "metadata": {
    "collapsed": true
   },
   "source": [
    "# Topic Modeling Assessment Project\n",
    "\n",
    "Welcome to your Topic Modeling Assessment! For this project you will be working with a dataset of over 400,000 quora questions that have no labeled cateogry, and attempting to find 20 cateogries to assign these questions to. The .csv file of these text questions can be found underneath the Topic-Modeling folder.\n",
    "\n",
    "Remember you can always check the solutions notebook and video lecture for any questions."
   ]
  },
  {
   "cell_type": "markdown",
   "metadata": {},
   "source": [
    "#### Task: Import pandas and read in the quora_questions.csv file."
   ]
  },
  {
   "cell_type": "code",
   "execution_count": 1,
   "metadata": {},
   "outputs": [
    {
     "data": {
      "text/html": [
       "<div>\n",
       "<style scoped>\n",
       "    .dataframe tbody tr th:only-of-type {\n",
       "        vertical-align: middle;\n",
       "    }\n",
       "\n",
       "    .dataframe tbody tr th {\n",
       "        vertical-align: top;\n",
       "    }\n",
       "\n",
       "    .dataframe thead th {\n",
       "        text-align: right;\n",
       "    }\n",
       "</style>\n",
       "<table border=\"1\" class=\"dataframe\">\n",
       "  <thead>\n",
       "    <tr style=\"text-align: right;\">\n",
       "      <th></th>\n",
       "      <th>Question</th>\n",
       "    </tr>\n",
       "  </thead>\n",
       "  <tbody>\n",
       "    <tr>\n",
       "      <th>0</th>\n",
       "      <td>What is the step by step guide to invest in sh...</td>\n",
       "    </tr>\n",
       "    <tr>\n",
       "      <th>1</th>\n",
       "      <td>What is the story of Kohinoor (Koh-i-Noor) Dia...</td>\n",
       "    </tr>\n",
       "    <tr>\n",
       "      <th>2</th>\n",
       "      <td>How can I increase the speed of my internet co...</td>\n",
       "    </tr>\n",
       "    <tr>\n",
       "      <th>3</th>\n",
       "      <td>Why am I mentally very lonely? How can I solve...</td>\n",
       "    </tr>\n",
       "    <tr>\n",
       "      <th>4</th>\n",
       "      <td>Which one dissolve in water quikly sugar, salt...</td>\n",
       "    </tr>\n",
       "  </tbody>\n",
       "</table>\n",
       "</div>"
      ],
      "text/plain": [
       "                                            Question\n",
       "0  What is the step by step guide to invest in sh...\n",
       "1  What is the story of Kohinoor (Koh-i-Noor) Dia...\n",
       "2  How can I increase the speed of my internet co...\n",
       "3  Why am I mentally very lonely? How can I solve...\n",
       "4  Which one dissolve in water quikly sugar, salt..."
      ]
     },
     "execution_count": 1,
     "metadata": {},
     "output_type": "execute_result"
    }
   ],
   "source": [
    "import pandas as pd\n",
    "\n",
    "quora_questions_path = \"../UPDATED_NLP_COURSE/05-Topic-Modeling/quora_questions.csv\"\n",
    "quora_df = pd.read_csv(quora_questions_path)\n",
    "quora_df.head()"
   ]
  },
  {
   "cell_type": "code",
   "execution_count": 8,
   "metadata": {},
   "outputs": [
    {
     "data": {
      "text/plain": [
       "(404289, 1)"
      ]
     },
     "execution_count": 8,
     "metadata": {},
     "output_type": "execute_result"
    }
   ],
   "source": [
    "quora_df.shape"
   ]
  },
  {
   "cell_type": "markdown",
   "metadata": {},
   "source": [
    "# Preprocessing\n",
    "\n",
    "#### Task: Use TF-IDF Vectorization to create a vectorized document term matrix. You may want to explore the max_df and min_df parameters."
   ]
  },
  {
   "cell_type": "code",
   "execution_count": 6,
   "metadata": {},
   "outputs": [
    {
     "data": {
      "text/plain": [
       "<404289x30 sparse matrix of type '<class 'numpy.float64'>'\n",
       "\twith 258260 stored elements in Compressed Sparse Row format>"
      ]
     },
     "execution_count": 6,
     "metadata": {},
     "output_type": "execute_result"
    }
   ],
   "source": [
    "from sklearn.feature_extraction.text import TfidfVectorizer\n",
    "\n",
    "tfidf = TfidfVectorizer(max_df=0.99, min_df=0.01, stop_words='english')\n",
    "dtm = tfidf.fit_transform(quora_df.Question.values)\n",
    "dtm"
   ]
  },
  {
   "cell_type": "code",
   "execution_count": 43,
   "metadata": {},
   "outputs": [
    {
     "data": {
      "text/plain": [
       "<404289x38669 sparse matrix of type '<class 'numpy.float64'>'\n",
       "\twith 2002912 stored elements in Compressed Sparse Row format>"
      ]
     },
     "execution_count": 43,
     "metadata": {},
     "output_type": "execute_result"
    }
   ],
   "source": []
  },
  {
   "cell_type": "markdown",
   "metadata": {},
   "source": [
    "# Non-negative Matrix Factorization\n",
    "\n",
    "#### TASK: Using Scikit-Learn create an instance of NMF with 20 expected components. (Use random_state=42).."
   ]
  },
  {
   "cell_type": "code",
   "execution_count": 9,
   "metadata": {},
   "outputs": [
    {
     "data": {
      "text/plain": [
       "NMF(alpha=0.0, beta_loss='frobenius', init=None, l1_ratio=0.0, max_iter=200,\n",
       "  n_components=20, random_state=42, shuffle=False, solver='cd', tol=0.0001,\n",
       "  verbose=0)"
      ]
     },
     "execution_count": 9,
     "metadata": {},
     "output_type": "execute_result"
    }
   ],
   "source": [
    "from sklearn.decomposition import NMF\n",
    "\n",
    "nmf = NMF(n_components=20, random_state=42)\n",
    "nmf.fit(dtm)"
   ]
  },
  {
   "cell_type": "markdown",
   "metadata": {},
   "source": [
    "#### TASK: Print our the top 15 most common words for each of the 20 topics."
   ]
  },
  {
   "cell_type": "code",
   "execution_count": 12,
   "metadata": {},
   "outputs": [],
   "source": [
    "def print_topn_topic_words(top=15):\n",
    "    vocab = tfidf.get_feature_names()\n",
    "    for index, topic in enumerate(nmf.components_):\n",
    "        top_n = topic.argsort()[-top:]\n",
    "        print(f\"THE TOP {top} WORDS FOR TOPIC {index}\")\n",
    "        words = [vocab[idx] for idx in top_n]\n",
    "        print(f\"{words}\\n\")\n",
    "        "
   ]
  },
  {
   "cell_type": "code",
   "execution_count": 13,
   "metadata": {},
   "outputs": [
    {
     "name": "stdout",
     "output_type": "stream",
     "text": [
      "THE TOP 15 WORDS FOR TOPIC 0\n",
      "['good', 'does', 'difference', 'did', 'better', 'learn', 'mean', 'think', 'work', 'start', 'new', 'year', 'english', 'online', 'best']\n",
      "\n",
      "THE TOP 15 WORDS FOR TOPIC 1\n",
      "['difference', 'did', 'better', 'know', 'trump', 'money', 'think', 'english', 'start', 'year', 'want', 'new', 'work', 'mean', 'does']\n",
      "\n",
      "THE TOP 15 WORDS FOR TOPIC 2\n",
      "['better', 'did', 'good', 'life', 'difference', 'does', 'english', 'online', 'year', 'think', 'new', 'work', 'want', 'start', 'india']\n",
      "\n",
      "THE TOP 15 WORDS FOR TOPIC 3\n",
      "['indian', 'india', 'better', 'life', 'does', 'difference', 'did', 'new', 'want', 'online', 'english', 'start', 'year', 'work', 'good']\n",
      "\n",
      "THE TOP 15 WORDS FOR TOPIC 4\n",
      "['india', 'good', 'life', 'does', 'difference', 'did', 'better', 'think', 'start', 'online', 'want', 'english', 'year', 'work', 'like']\n",
      "\n",
      "THE TOP 15 WORDS FOR TOPIC 5\n",
      "['indian', 'india', 'better', 'good', 'like', 'does', 'difference', 'did', 'english', 'work', 'mean', 'know', 'want', 'think', 'people']\n",
      "\n",
      "THE TOP 15 WORDS FOR TOPIC 6\n",
      "['good', 'does', 'difference', 'better', 'learn', 'use', 'english', 'new', 'want', 'work', 'year', 'trump', 'mean', 'start', 'did']\n",
      "\n",
      "THE TOP 15 WORDS FOR TOPIC 7\n",
      "['does', 'did', 'way', 'know', 'trump', 'want', 'online', 'start', 'new', 'year', 'work', 'mean', 'english', 'better', 'difference']\n",
      "\n",
      "THE TOP 15 WORDS FOR TOPIC 8\n",
      "['difference', 'life', 'good', 'indian', 'know', 'india', 'year', 'people', 'does', 'start', 'money', 'english', 'want', 'better', 'quora']\n",
      "\n",
      "THE TOP 15 WORDS FOR TOPIC 9\n",
      "['indian', 'india', 'good', 'english', 'did', 'does', 'difference', 'money', 'start', 'year', 'think', 'better', 'want', 'work', 'life']\n",
      "\n",
      "THE TOP 15 WORDS FOR TOPIC 10\n",
      "['life', 'learn', 'know', 'indian', 'india', 'good', 'difference', 'did', 'does', 'english', 'money', 'better', 'want', 'year', 'make']\n",
      "\n",
      "THE TOP 15 WORDS FOR TOPIC 11\n",
      "['does', 'difference', 'did', 'way', 'know', 'trump', 'mean', 'better', 'online', 'think', 'want', 'start', 'year', 'work', 'time']\n",
      "\n",
      "THE TOP 15 WORDS FOR TOPIC 12\n",
      "['indian', 'india', 'good', 'does', 'did', 'life', 'difference', 'want', 'think', 'work', 'better', 'year', 'english', 'start', 'way']\n",
      "\n",
      "THE TOP 15 WORDS FOR TOPIC 13\n",
      "['good', 'english', 'does', 'difference', 'did', 'better', 'learn', 'time', 'mean', 'work', 'start', 'want', 'year', 'new', 'know']\n",
      "\n",
      "THE TOP 15 WORDS FOR TOPIC 14\n",
      "['does', 'life', 'good', 'year', 'india', 'indian', 'know', 'new', 'online', 'start', 'better', 'work', 'english', 'want', 'use']\n",
      "\n",
      "THE TOP 15 WORDS FOR TOPIC 15\n",
      "['india', 'good', 'life', 'does', 'difference', 'did', 'work', 'year', 'new', 'better', 'online', 'start', 'want', 'english', 'learn']\n",
      "\n",
      "THE TOP 15 WORDS FOR TOPIC 16\n",
      "['good', 'does', 'difference', 'did', 'work', 'learn', 'time', 'english', 'mean', 'want', 'year', 'new', 'better', 'think', 'trump']\n",
      "\n",
      "THE TOP 15 WORDS FOR TOPIC 17\n",
      "['better', 'did', 'india', 'good', 'life', 'does', 'difference', 'start', 'english', 'year', 'work', 'want', 'think', 'new', 'indian']\n",
      "\n",
      "THE TOP 15 WORDS FOR TOPIC 18\n",
      "['better', 'did', 'good', 'english', 'learn', 'does', 'difference', 'think', 'want', 'year', 'work', 'new', 'start', 'online', 'money']\n",
      "\n",
      "THE TOP 15 WORDS FOR TOPIC 19\n",
      "['know', 'difference', 'indian', 'india', 'good', 'does', 'life', 'english', 'year', 'think', 'want', 'new', 'start', 'better', 'world']\n",
      "\n"
     ]
    }
   ],
   "source": [
    "print_topn_topic_words(15)"
   ]
  },
  {
   "cell_type": "markdown",
   "metadata": {},
   "source": [
    "#### TASK: Add a new column to the original quora dataframe that labels each question into one of the 20 topic categories."
   ]
  },
  {
   "cell_type": "code",
   "execution_count": 16,
   "metadata": {},
   "outputs": [
    {
     "data": {
      "text/html": [
       "<div>\n",
       "<style scoped>\n",
       "    .dataframe tbody tr th:only-of-type {\n",
       "        vertical-align: middle;\n",
       "    }\n",
       "\n",
       "    .dataframe tbody tr th {\n",
       "        vertical-align: top;\n",
       "    }\n",
       "\n",
       "    .dataframe thead th {\n",
       "        text-align: right;\n",
       "    }\n",
       "</style>\n",
       "<table border=\"1\" class=\"dataframe\">\n",
       "  <thead>\n",
       "    <tr style=\"text-align: right;\">\n",
       "      <th></th>\n",
       "      <th>Question</th>\n",
       "      <th>Topic</th>\n",
       "    </tr>\n",
       "  </thead>\n",
       "  <tbody>\n",
       "    <tr>\n",
       "      <th>0</th>\n",
       "      <td>What is the step by step guide to invest in sh...</td>\n",
       "      <td>2</td>\n",
       "    </tr>\n",
       "    <tr>\n",
       "      <th>1</th>\n",
       "      <td>What is the story of Kohinoor (Koh-i-Noor) Dia...</td>\n",
       "      <td>0</td>\n",
       "    </tr>\n",
       "    <tr>\n",
       "      <th>2</th>\n",
       "      <td>How can I increase the speed of my internet co...</td>\n",
       "      <td>0</td>\n",
       "    </tr>\n",
       "    <tr>\n",
       "      <th>3</th>\n",
       "      <td>Why am I mentally very lonely? How can I solve...</td>\n",
       "      <td>0</td>\n",
       "    </tr>\n",
       "    <tr>\n",
       "      <th>4</th>\n",
       "      <td>Which one dissolve in water quikly sugar, salt...</td>\n",
       "      <td>0</td>\n",
       "    </tr>\n",
       "    <tr>\n",
       "      <th>5</th>\n",
       "      <td>Astrology: I am a Capricorn Sun Cap moon and c...</td>\n",
       "      <td>1</td>\n",
       "    </tr>\n",
       "    <tr>\n",
       "      <th>6</th>\n",
       "      <td>Should I buy tiago?</td>\n",
       "      <td>0</td>\n",
       "    </tr>\n",
       "    <tr>\n",
       "      <th>7</th>\n",
       "      <td>How can I be a good geologist?</td>\n",
       "      <td>3</td>\n",
       "    </tr>\n",
       "    <tr>\n",
       "      <th>8</th>\n",
       "      <td>When do you use シ instead of し?</td>\n",
       "      <td>14</td>\n",
       "    </tr>\n",
       "    <tr>\n",
       "      <th>9</th>\n",
       "      <td>Motorola (company): Can I hack my Charter Moto...</td>\n",
       "      <td>0</td>\n",
       "    </tr>\n",
       "    <tr>\n",
       "      <th>10</th>\n",
       "      <td>Method to find separation of slits using fresn...</td>\n",
       "      <td>0</td>\n",
       "    </tr>\n",
       "    <tr>\n",
       "      <th>11</th>\n",
       "      <td>How do I read and find my YouTube comments?</td>\n",
       "      <td>0</td>\n",
       "    </tr>\n",
       "    <tr>\n",
       "      <th>12</th>\n",
       "      <td>What can make Physics easy to learn?</td>\n",
       "      <td>15</td>\n",
       "    </tr>\n",
       "    <tr>\n",
       "      <th>13</th>\n",
       "      <td>What was your first sexual experience like?</td>\n",
       "      <td>4</td>\n",
       "    </tr>\n",
       "    <tr>\n",
       "      <th>14</th>\n",
       "      <td>What are the laws to change your status from a...</td>\n",
       "      <td>0</td>\n",
       "    </tr>\n",
       "    <tr>\n",
       "      <th>15</th>\n",
       "      <td>What would a Trump presidency mean for current...</td>\n",
       "      <td>16</td>\n",
       "    </tr>\n",
       "    <tr>\n",
       "      <th>16</th>\n",
       "      <td>What does manipulation mean?</td>\n",
       "      <td>1</td>\n",
       "    </tr>\n",
       "    <tr>\n",
       "      <th>17</th>\n",
       "      <td>Why do girls want to be friends with the guy t...</td>\n",
       "      <td>15</td>\n",
       "    </tr>\n",
       "    <tr>\n",
       "      <th>18</th>\n",
       "      <td>Why are so many Quora users posting questions ...</td>\n",
       "      <td>8</td>\n",
       "    </tr>\n",
       "    <tr>\n",
       "      <th>19</th>\n",
       "      <td>Which is the best digital marketing institutio...</td>\n",
       "      <td>0</td>\n",
       "    </tr>\n",
       "  </tbody>\n",
       "</table>\n",
       "</div>"
      ],
      "text/plain": [
       "                                             Question  Topic\n",
       "0   What is the step by step guide to invest in sh...      2\n",
       "1   What is the story of Kohinoor (Koh-i-Noor) Dia...      0\n",
       "2   How can I increase the speed of my internet co...      0\n",
       "3   Why am I mentally very lonely? How can I solve...      0\n",
       "4   Which one dissolve in water quikly sugar, salt...      0\n",
       "5   Astrology: I am a Capricorn Sun Cap moon and c...      1\n",
       "6                                 Should I buy tiago?      0\n",
       "7                      How can I be a good geologist?      3\n",
       "8                     When do you use シ instead of し?     14\n",
       "9   Motorola (company): Can I hack my Charter Moto...      0\n",
       "10  Method to find separation of slits using fresn...      0\n",
       "11        How do I read and find my YouTube comments?      0\n",
       "12               What can make Physics easy to learn?     15\n",
       "13        What was your first sexual experience like?      4\n",
       "14  What are the laws to change your status from a...      0\n",
       "15  What would a Trump presidency mean for current...     16\n",
       "16                       What does manipulation mean?      1\n",
       "17  Why do girls want to be friends with the guy t...     15\n",
       "18  Why are so many Quora users posting questions ...      8\n",
       "19  Which is the best digital marketing institutio...      0"
      ]
     },
     "execution_count": 16,
     "metadata": {},
     "output_type": "execute_result"
    }
   ],
   "source": [
    "topic_result = nmf.transform(dtm)\n",
    "topic_result = topic_result.argmax(axis=1)\n",
    "quora_df['Topic_NMF'] = topic_result\n",
    "quora_df.head(20)"
   ]
  },
  {
   "cell_type": "markdown",
   "metadata": {},
   "source": [
    "## Train with LDA"
   ]
  },
  {
   "cell_type": "code",
   "execution_count": 20,
   "metadata": {},
   "outputs": [
    {
     "data": {
      "text/plain": [
       "<404289x30 sparse matrix of type '<class 'numpy.int64'>'\n",
       "\twith 258260 stored elements in Compressed Sparse Row format>"
      ]
     },
     "execution_count": 20,
     "metadata": {},
     "output_type": "execute_result"
    }
   ],
   "source": [
    "from sklearn.feature_extraction.text import CountVectorizer\n",
    "\n",
    "quora_df = pd.read_csv(quora_questions_path)\n",
    "\n",
    "cv = CountVectorizer(max_df=0.99, min_df=0.01, stop_words='english')\n",
    "dtm = cv.fit_transform(quora_df.Question.values)\n",
    "dtm"
   ]
  },
  {
   "cell_type": "code",
   "execution_count": 21,
   "metadata": {},
   "outputs": [
    {
     "name": "stdout",
     "output_type": "stream",
     "text": [
      "CPU times: user 3min 3s, sys: 1.29 s, total: 3min 5s\n",
      "Wall time: 2min 40s\n"
     ]
    },
    {
     "data": {
      "text/plain": [
       "LatentDirichletAllocation(batch_size=128, doc_topic_prior=None,\n",
       "             evaluate_every=-1, learning_decay=0.7,\n",
       "             learning_method='batch', learning_offset=10.0,\n",
       "             max_doc_update_iter=100, max_iter=10, mean_change_tol=0.001,\n",
       "             n_components=20, n_jobs=None, n_topics=None, perp_tol=0.1,\n",
       "             random_state=42, topic_word_prior=None,\n",
       "             total_samples=1000000.0, verbose=0)"
      ]
     },
     "execution_count": 21,
     "metadata": {},
     "output_type": "execute_result"
    }
   ],
   "source": [
    "%%time\n",
    "from sklearn.decomposition import LatentDirichletAllocation\n",
    "\n",
    "LDA = LatentDirichletAllocation(n_components=20, random_state=42)\n",
    "LDA.fit(dtm)"
   ]
  },
  {
   "cell_type": "code",
   "execution_count": 24,
   "metadata": {},
   "outputs": [],
   "source": [
    "def print_topn_topic_words(top=15):\n",
    "    vocab = cv.get_feature_names()\n",
    "    for index, topic in enumerate(LDA.components_):\n",
    "        top_n = topic.argsort()[-top:]\n",
    "        print(f\"THE TOP {top} WORDS FOR TOPIC {index}\")\n",
    "        words = [vocab[idx] for idx in top_n]\n",
    "        print(f\"{words}\\n\")"
   ]
  },
  {
   "cell_type": "code",
   "execution_count": 25,
   "metadata": {},
   "outputs": [
    {
     "name": "stdout",
     "output_type": "stream",
     "text": [
      "THE TOP 15 WORDS FOR TOPIC 0\n",
      "['indian', 'people', 'money', 'india', 'think', 'use', 'life', 'year', 'quora', 'make', 'new', 'time', 'like', 'work', 'does']\n",
      "\n",
      "THE TOP 15 WORDS FOR TOPIC 1\n",
      "['work', 'indian', 'quora', 'new', 'time', 'start', 'india', 'people', 'best', 'year', 'does', 'way', 'online', 'make', 'money']\n",
      "\n",
      "THE TOP 15 WORDS FOR TOPIC 2\n",
      "['make', 'learn', 'trump', 'new', 'best', 'india', 'like', 'world', 'quora', 'time', 'indian', 'does', 'people', 'think', 'use']\n",
      "\n",
      "THE TOP 15 WORDS FOR TOPIC 3\n",
      "['like', 'indian', 'india', 'people', 'way', 'start', 'make', 'online', 'does', 'life', 'learn', 'year', 'time', 'work', 'good']\n",
      "\n",
      "THE TOP 15 WORDS FOR TOPIC 4\n",
      "['work', 'indian', 'did', 'start', 'quora', 'want', 'life', 'year', 'like', 'time', 'new', 'people', 'does', 'mean', 'know']\n",
      "\n",
      "THE TOP 15 WORDS FOR TOPIC 5\n",
      "['indian', 'quora', 'mean', 'make', 'like', 'know', 'life', 'people', 'year', 'trump', 'world', 'time', 'learn', 'start', 'did']\n",
      "\n",
      "THE TOP 15 WORDS FOR TOPIC 6\n",
      "['learn', 'know', 'did', 'time', 'make', 'good', 'year', 'think', 'people', 'does', 'like', 'best', 'work', 'world', 'life']\n",
      "\n",
      "THE TOP 15 WORDS FOR TOPIC 7\n",
      "['make', 'know', 'world', 'start', 'life', 'year', 'online', 'people', 'time', 'way', 'work', 'best', 'does', 'learn', 'like']\n",
      "\n",
      "THE TOP 15 WORDS FOR TOPIC 8\n",
      "['world', 'time', 'money', 'india', 'start', 'learn', 'like', 'people', 'best', 'think', 'does', 'know', 'year', 'indian', 'new']\n",
      "\n",
      "THE TOP 15 WORDS FOR TOPIC 9\n",
      "['english', 'people', 'make', 'new', 'indian', 'life', 'start', 'world', 'year', 'india', 'time', 'online', 'learn', 'way', 'best']\n",
      "\n",
      "THE TOP 15 WORDS FOR TOPIC 10\n",
      "['new', 'money', 'world', 'year', 'time', 'work', 'like', 'people', 'indian', 'online', 'start', 'think', 'does', 'best', 'india']\n",
      "\n",
      "THE TOP 15 WORDS FOR TOPIC 11\n",
      "['year', 'indian', 'think', 'people', 'mean', 'use', 'online', 'time', 'like', 'does', 'good', 'way', 'best', 'learn', 'english']\n",
      "\n",
      "THE TOP 15 WORDS FOR TOPIC 12\n",
      "['use', 'good', 'learn', 'world', 'make', 'best', 'does', 'like', 'new', 'think', 'know', 'quora', 'year', 'time', 'people']\n",
      "\n",
      "THE TOP 15 WORDS FOR TOPIC 13\n",
      "['world', 'mean', 'year', 'good', 'like', 'quora', 'india', 'better', 'make', 'indian', 'people', 'does', 'did', 'think', 'trump']\n",
      "\n",
      "THE TOP 15 WORDS FOR TOPIC 14\n",
      "['india', 'good', 'best', 'like', 'does', 'make', 'time', 'life', 'work', 'people', 'know', 'learn', 'year', 'start', 'want']\n",
      "\n",
      "THE TOP 15 WORDS FOR TOPIC 15\n",
      "['like', 'india', 'time', 'does', 'quora', 'work', 'year', 'think', 'life', 'people', 'make', 'learn', 'trump', 'world', 'better']\n",
      "\n",
      "THE TOP 15 WORDS FOR TOPIC 16\n",
      "['did', 'online', 'money', 'way', 'best', 'make', 'good', 'use', 'time', 'life', 'like', 'does', 'people', 'work', 'quora']\n",
      "\n",
      "THE TOP 15 WORDS FOR TOPIC 17\n",
      "['work', 'new', 'mean', 'know', 'better', 'use', 'year', 'like', 'does', 'people', 'india', 'make', 'time', 'indian', 'difference']\n",
      "\n",
      "THE TOP 15 WORDS FOR TOPIC 18\n",
      "['quora', 'india', 'start', 'good', 'like', 'time', 'people', 'learn', 'does', 'year', 'best', 'way', 'money', 'online', 'make']\n",
      "\n",
      "THE TOP 15 WORDS FOR TOPIC 19\n",
      "['people', 'know', 'india', 'new', 'good', 'want', 'time', 'money', 'make', 'online', 'year', 'learn', 'best', 'start', 'way']\n",
      "\n"
     ]
    }
   ],
   "source": [
    "print_topn_topic_words(15)"
   ]
  },
  {
   "cell_type": "code",
   "execution_count": 26,
   "metadata": {},
   "outputs": [
    {
     "data": {
      "text/html": [
       "<div>\n",
       "<style scoped>\n",
       "    .dataframe tbody tr th:only-of-type {\n",
       "        vertical-align: middle;\n",
       "    }\n",
       "\n",
       "    .dataframe tbody tr th {\n",
       "        vertical-align: top;\n",
       "    }\n",
       "\n",
       "    .dataframe thead th {\n",
       "        text-align: right;\n",
       "    }\n",
       "</style>\n",
       "<table border=\"1\" class=\"dataframe\">\n",
       "  <thead>\n",
       "    <tr style=\"text-align: right;\">\n",
       "      <th></th>\n",
       "      <th>Question</th>\n",
       "      <th>Topic</th>\n",
       "    </tr>\n",
       "  </thead>\n",
       "  <tbody>\n",
       "    <tr>\n",
       "      <th>0</th>\n",
       "      <td>What is the step by step guide to invest in sh...</td>\n",
       "      <td>10</td>\n",
       "    </tr>\n",
       "    <tr>\n",
       "      <th>1</th>\n",
       "      <td>What is the story of Kohinoor (Koh-i-Noor) Dia...</td>\n",
       "      <td>0</td>\n",
       "    </tr>\n",
       "    <tr>\n",
       "      <th>2</th>\n",
       "      <td>How can I increase the speed of my internet co...</td>\n",
       "      <td>0</td>\n",
       "    </tr>\n",
       "    <tr>\n",
       "      <th>3</th>\n",
       "      <td>Why am I mentally very lonely? How can I solve...</td>\n",
       "      <td>0</td>\n",
       "    </tr>\n",
       "    <tr>\n",
       "      <th>4</th>\n",
       "      <td>Which one dissolve in water quikly sugar, salt...</td>\n",
       "      <td>0</td>\n",
       "    </tr>\n",
       "    <tr>\n",
       "      <th>5</th>\n",
       "      <td>Astrology: I am a Capricorn Sun Cap moon and c...</td>\n",
       "      <td>0</td>\n",
       "    </tr>\n",
       "    <tr>\n",
       "      <th>6</th>\n",
       "      <td>Should I buy tiago?</td>\n",
       "      <td>0</td>\n",
       "    </tr>\n",
       "    <tr>\n",
       "      <th>7</th>\n",
       "      <td>How can I be a good geologist?</td>\n",
       "      <td>3</td>\n",
       "    </tr>\n",
       "    <tr>\n",
       "      <th>8</th>\n",
       "      <td>When do you use シ instead of し?</td>\n",
       "      <td>2</td>\n",
       "    </tr>\n",
       "    <tr>\n",
       "      <th>9</th>\n",
       "      <td>Motorola (company): Can I hack my Charter Moto...</td>\n",
       "      <td>0</td>\n",
       "    </tr>\n",
       "    <tr>\n",
       "      <th>10</th>\n",
       "      <td>Method to find separation of slits using fresn...</td>\n",
       "      <td>0</td>\n",
       "    </tr>\n",
       "    <tr>\n",
       "      <th>11</th>\n",
       "      <td>How do I read and find my YouTube comments?</td>\n",
       "      <td>0</td>\n",
       "    </tr>\n",
       "    <tr>\n",
       "      <th>12</th>\n",
       "      <td>What can make Physics easy to learn?</td>\n",
       "      <td>18</td>\n",
       "    </tr>\n",
       "    <tr>\n",
       "      <th>13</th>\n",
       "      <td>What was your first sexual experience like?</td>\n",
       "      <td>7</td>\n",
       "    </tr>\n",
       "    <tr>\n",
       "      <th>14</th>\n",
       "      <td>What are the laws to change your status from a...</td>\n",
       "      <td>0</td>\n",
       "    </tr>\n",
       "    <tr>\n",
       "      <th>15</th>\n",
       "      <td>What would a Trump presidency mean for current...</td>\n",
       "      <td>13</td>\n",
       "    </tr>\n",
       "    <tr>\n",
       "      <th>16</th>\n",
       "      <td>What does manipulation mean?</td>\n",
       "      <td>4</td>\n",
       "    </tr>\n",
       "    <tr>\n",
       "      <th>17</th>\n",
       "      <td>Why do girls want to be friends with the guy t...</td>\n",
       "      <td>14</td>\n",
       "    </tr>\n",
       "    <tr>\n",
       "      <th>18</th>\n",
       "      <td>Why are so many Quora users posting questions ...</td>\n",
       "      <td>16</td>\n",
       "    </tr>\n",
       "    <tr>\n",
       "      <th>19</th>\n",
       "      <td>Which is the best digital marketing institutio...</td>\n",
       "      <td>9</td>\n",
       "    </tr>\n",
       "  </tbody>\n",
       "</table>\n",
       "</div>"
      ],
      "text/plain": [
       "                                             Question  Topic\n",
       "0   What is the step by step guide to invest in sh...     10\n",
       "1   What is the story of Kohinoor (Koh-i-Noor) Dia...      0\n",
       "2   How can I increase the speed of my internet co...      0\n",
       "3   Why am I mentally very lonely? How can I solve...      0\n",
       "4   Which one dissolve in water quikly sugar, salt...      0\n",
       "5   Astrology: I am a Capricorn Sun Cap moon and c...      0\n",
       "6                                 Should I buy tiago?      0\n",
       "7                      How can I be a good geologist?      3\n",
       "8                     When do you use シ instead of し?      2\n",
       "9   Motorola (company): Can I hack my Charter Moto...      0\n",
       "10  Method to find separation of slits using fresn...      0\n",
       "11        How do I read and find my YouTube comments?      0\n",
       "12               What can make Physics easy to learn?     18\n",
       "13        What was your first sexual experience like?      7\n",
       "14  What are the laws to change your status from a...      0\n",
       "15  What would a Trump presidency mean for current...     13\n",
       "16                       What does manipulation mean?      4\n",
       "17  Why do girls want to be friends with the guy t...     14\n",
       "18  Why are so many Quora users posting questions ...     16\n",
       "19  Which is the best digital marketing institutio...      9"
      ]
     },
     "execution_count": 26,
     "metadata": {},
     "output_type": "execute_result"
    }
   ],
   "source": [
    "quora_df['Topic'] = LDA.transform(dtm).argmax(axis=1)\n",
    "quora_df.head(20)"
   ]
  },
  {
   "cell_type": "markdown",
   "metadata": {},
   "source": [
    "# Great job!"
   ]
  }
 ],
 "metadata": {
  "kernelspec": {
   "display_name": "Python 3",
   "language": "python",
   "name": "python3"
  },
  "language_info": {
   "codemirror_mode": {
    "name": "ipython",
    "version": 3
   },
   "file_extension": ".py",
   "mimetype": "text/x-python",
   "name": "python",
   "nbconvert_exporter": "python",
   "pygments_lexer": "ipython3",
   "version": "3.7.4"
  }
 },
 "nbformat": 4,
 "nbformat_minor": 2
}
