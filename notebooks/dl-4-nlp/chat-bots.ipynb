{
 "cells": [
  {
   "cell_type": "markdown",
   "metadata": {},
   "source": [
    "# Chat bots with python\n",
    "\n",
    "This notebook contains a Keras implementation of the paper entitled: [End-To-End Memory Networks](https://arxiv.org/pdf/1503.08895.pdf) by Sainbayar Sukhbaatar et al. The idea is to train a Q&A chat bot by training an ANN using a data set of contexts for questions and answers."
   ]
  },
  {
   "cell_type": "code",
   "execution_count": 2,
   "metadata": {},
   "outputs": [],
   "source": [
    "import pickle\n",
    "import numpy as np\n",
    "\n",
    "with open('../../datasets/train_qa.txt', 'rb') as f:\n",
    "    train_data = pickle.load(f)\n",
    "    \n",
    "with open('../../datasets/test_qa.txt', 'rb') as f:\n",
    "    test_data = pickle.load(f)\n"
   ]
  },
  {
   "cell_type": "code",
   "execution_count": 3,
   "metadata": {},
   "outputs": [
    {
     "name": "stdout",
     "output_type": "stream",
     "text": [
      "Train size: 10000\n",
      "Train examples:\n",
      " [(['Mary', 'moved', 'to', 'the', 'bathroom', '.', 'Sandra', 'journeyed', 'to', 'the', 'bedroom', '.'], ['Is', 'Sandra', 'in', 'the', 'hallway', '?'], 'no'), (['Mary', 'moved', 'to', 'the', 'bathroom', '.', 'Sandra', 'journeyed', 'to', 'the', 'bedroom', '.', 'Mary', 'went', 'back', 'to', 'the', 'bedroom', '.', 'Daniel', 'went', 'back', 'to', 'the', 'hallway', '.'], ['Is', 'Daniel', 'in', 'the', 'bathroom', '?'], 'no')]\n"
     ]
    }
   ],
   "source": [
    "train_size = len(train_data)\n",
    "print(f\"Train size: {train_size}\")\n",
    "print(f\"Train examples:\\n {train_data[:2]}\")"
   ]
  },
  {
   "cell_type": "markdown",
   "metadata": {},
   "source": [
    "The input data corresponds to short stories (the context), followed by a question about the context, and finally the answer to that particular question. For example:"
   ]
  },
  {
   "cell_type": "code",
   "execution_count": 5,
   "metadata": {},
   "outputs": [
    {
     "name": "stdout",
     "output_type": "stream",
     "text": [
      "The context: ['Mary', 'moved', 'to', 'the', 'bathroom', '.', 'Sandra', 'journeyed', 'to', 'the', 'bedroom', '.']\n",
      "The question: ['Is', 'Sandra', 'in', 'the', 'hallway', '?']\n",
      "The answer: no\n"
     ]
    }
   ],
   "source": [
    "context = train_data[0][0]\n",
    "question = train_data[0][1]\n",
    "answer = train_data[0][2]\n",
    "print(f\"The context: {context}\")\n",
    "print(f\"The question: {question}\")\n",
    "print(f\"The answer: {answer}\")"
   ]
  },
  {
   "cell_type": "markdown",
   "metadata": {},
   "source": [
    "Now, let's construct a vocabulary from the data we have. Basically, we need to gather all the unique words from the three types of inputs."
   ]
  },
  {
   "cell_type": "code",
   "execution_count": 37,
   "metadata": {},
   "outputs": [],
   "source": [
    "all_data = train_data + test_data\n",
    "vocab = set()\n",
    "for context, question, answer in all_data:\n",
    "    vocab = vocab.union(set(context))\n",
    "    vocab = vocab.union(set(question))\n",
    "    vocab = vocab.union({answer})\n",
    "vocab_len = len(vocab) + 1 # Necessary for keras given how it pad sequences."
   ]
  },
  {
   "cell_type": "code",
   "execution_count": 38,
   "metadata": {},
   "outputs": [
    {
     "data": {
      "text/plain": [
       "{'.',\n",
       " '?',\n",
       " 'Daniel',\n",
       " 'Is',\n",
       " 'John',\n",
       " 'Mary',\n",
       " 'Sandra',\n",
       " 'apple',\n",
       " 'back',\n",
       " 'bathroom',\n",
       " 'bedroom',\n",
       " 'discarded',\n",
       " 'down',\n",
       " 'dropped',\n",
       " 'football',\n",
       " 'garden',\n",
       " 'got',\n",
       " 'grabbed',\n",
       " 'hallway',\n",
       " 'in',\n",
       " 'journeyed',\n",
       " 'kitchen',\n",
       " 'left',\n",
       " 'milk',\n",
       " 'moved',\n",
       " 'no',\n",
       " 'office',\n",
       " 'picked',\n",
       " 'put',\n",
       " 'the',\n",
       " 'there',\n",
       " 'to',\n",
       " 'took',\n",
       " 'travelled',\n",
       " 'up',\n",
       " 'went',\n",
       " 'yes'}"
      ]
     },
     "execution_count": 38,
     "metadata": {},
     "output_type": "execute_result"
    }
   ],
   "source": [
    "vocab"
   ]
  },
  {
   "cell_type": "markdown",
   "metadata": {},
   "source": [
    "Let's explore the longest story/context, question and answers. This is important when defining the matrices that will be passed to keras."
   ]
  },
  {
   "cell_type": "code",
   "execution_count": 39,
   "metadata": {},
   "outputs": [],
   "source": [
    "story_lenghts = [len(data[0]) for data in all_data]\n",
    "max_story_len = max(story_lenghts)\n",
    "\n",
    "question_lenghts = [len(data[1]) for data in all_data]\n",
    "max_question_len = max(question_lenghts)\n",
    "\n",
    "answer_lenghts = [len(data[2]) for data in all_data]\n",
    "max_answer_len = max(answer_lenghts)"
   ]
  },
  {
   "cell_type": "code",
   "execution_count": 40,
   "metadata": {},
   "outputs": [
    {
     "name": "stdout",
     "output_type": "stream",
     "text": [
      "Max story lenght: 156\n",
      "Max question lenght: 6\n",
      "Max answer lenght: 3\n"
     ]
    }
   ],
   "source": [
    "print(f\"Max story lenght: {max_story_len}\")\n",
    "print(f\"Max question lenght: {max_question_len}\")\n",
    "print(f\"Max answer lenght: {max_answer_len}\")"
   ]
  },
  {
   "cell_type": "markdown",
   "metadata": {},
   "source": [
    "### Vectorize the input data"
   ]
  },
  {
   "cell_type": "code",
   "execution_count": 41,
   "metadata": {},
   "outputs": [
    {
     "data": {
      "text/plain": [
       "{'mary': 1,\n",
       " 'milk': 2,\n",
       " 'is': 3,\n",
       " 'the': 4,\n",
       " 'went': 5,\n",
       " 'kitchen': 6,\n",
       " '.': 7,\n",
       " 'daniel': 8,\n",
       " 'journeyed': 9,\n",
       " 'no': 10,\n",
       " 'grabbed': 11,\n",
       " 'john': 12,\n",
       " 'garden': 13,\n",
       " 'discarded': 14,\n",
       " 'sandra': 15,\n",
       " 'got': 16,\n",
       " 'travelled': 17,\n",
       " 'yes': 18,\n",
       " 'bathroom': 19,\n",
       " 'hallway': 20,\n",
       " 'put': 21,\n",
       " 'bedroom': 22,\n",
       " 'took': 23,\n",
       " 'moved': 24,\n",
       " 'football': 25,\n",
       " 'to': 26,\n",
       " 'picked': 27,\n",
       " 'office': 28,\n",
       " 'dropped': 29,\n",
       " 'in': 30,\n",
       " 'apple': 31,\n",
       " 'left': 32,\n",
       " '?': 33,\n",
       " 'down': 34,\n",
       " 'there': 35,\n",
       " 'up': 36,\n",
       " 'back': 37}"
      ]
     },
     "execution_count": 41,
     "metadata": {},
     "output_type": "execute_result"
    }
   ],
   "source": [
    "from keras.preprocessing.sequence import pad_sequences\n",
    "from keras.preprocessing.text import Tokenizer\n",
    "\n",
    "tokenizer = Tokenizer(filters=[])\n",
    "tokenizer.fit_on_texts(vocab)\n",
    "tokenizer.word_index"
   ]
  },
  {
   "cell_type": "markdown",
   "metadata": {},
   "source": [
    "Now we can prepare the training data using the trained tokenizer"
   ]
  },
  {
   "cell_type": "code",
   "execution_count": 42,
   "metadata": {},
   "outputs": [],
   "source": [
    "train_story_text = []\n",
    "train_question_text = []\n",
    "train_answer_text = []\n",
    "\n",
    "for story, question, answer in train_data:\n",
    "    train_story_text.append(story)\n",
    "    train_question_text.append(question)\n",
    "    train_answer_text.append(answer)\n",
    "    \n",
    "train_story_seq = tokenizer.texts_to_sequences(train_story_text)\n",
    "train_question_seq = tokenizer.texts_to_sequences(train_question_text)\n",
    "train_answer_seq = tokenizer.texts_to_sequences(train_answer_text)"
   ]
  },
  {
   "cell_type": "code",
   "execution_count": 86,
   "metadata": {},
   "outputs": [],
   "source": [
    "import numpy as np\n",
    "\n",
    "def vectorize_stories(data, word_index, max_story_len, max_question_len):\n",
    "    X = []\n",
    "    Xq = []\n",
    "    Y = []\n",
    "    for story, question, answer in data:\n",
    "        x = [word_index[word.lower()] for word in story]\n",
    "        xq = [word_index[word.lower()] for word in question]\n",
    "        y = np.zeros(len(word_index) + 1)\n",
    "        y[word_index[answer]] = 1\n",
    "        X.append(x)\n",
    "        Xq.append(xq)\n",
    "        Y.append(y)\n",
    "    return pad_sequences(X, maxlen=max_story_len), pad_sequences(Xq, maxlen=max_question_len), np.array(Y)"
   ]
  },
  {
   "cell_type": "code",
   "execution_count": 87,
   "metadata": {},
   "outputs": [],
   "source": [
    "inputs_train, questions_train, answers_train = vectorize_stories(train_data, \n",
    "                                                                 tokenizer.word_index, \n",
    "                                                                 max_story_len, \n",
    "                                                                 max_question_len)\n",
    "\n",
    "inputs_test, questions_test, answers_test = vectorize_stories(test_data, \n",
    "                                                                 tokenizer.word_index, \n",
    "                                                                 max_story_len, \n",
    "                                                                 max_question_len)"
   ]
  },
  {
   "cell_type": "code",
   "execution_count": 88,
   "metadata": {},
   "outputs": [
    {
     "name": "stdout",
     "output_type": "stream",
     "text": [
      "(10000, 156)\n",
      "(10000, 6)\n",
      "(10000, 38)\n"
     ]
    }
   ],
   "source": [
    "print(inputs_train.shape)\n",
    "print(questions_train.shape)\n",
    "print(answers_train.shape)"
   ]
  },
  {
   "cell_type": "markdown",
   "metadata": {},
   "source": [
    "## Implement the ANN model"
   ]
  },
  {
   "cell_type": "code",
   "execution_count": 70,
   "metadata": {},
   "outputs": [],
   "source": [
    "from keras.models import Sequential, Model\n",
    "from keras.layers.embeddings import Embedding\n",
    "from keras.layers import Input, Activation, Dense, Permute, Dropout, add, dot, concatenate, LSTM\n",
    "\n",
    "# Input of the stories, placeholder shape=(max_story_len, batch_size)\n",
    "input_sequence = Input(shape=(max_story_len,))\n",
    "question = Input(shape=(max_question_len,))\n",
    "\n",
    "# vocab_len\n",
    "vocab_size = len(vocab) + 1\n",
    "\n",
    "# Input encoder M\n",
    "input_encoder_m = Sequential()\n",
    "input_encoder_m.add(Embedding(input_dim=vocab_size, output_dim=64))\n",
    "input_encoder_m.add(Dropout(0.3))\n",
    "# Output: (samples, story_maxlen, embedding_dim)\n",
    "\n",
    "# Input encoder C\n",
    "input_encoder_c = Sequential()\n",
    "input_encoder_c.add(Embedding(input_dim=vocab_size, output_dim=max_question_len))\n",
    "input_encoder_c.add(Dropout(0.3))\n",
    "# Output: (samples, story_maxlen, max_question_len)\n",
    "\n",
    "# Question encoder\n",
    "question_encoder = Sequential()\n",
    "question_encoder.add(Embedding(input_dim=vocab_size, output_dim=64, input_length=max_question_len))\n",
    "question_encoder.add(Dropout(0.3))\n",
    "# Output: (samples, embedding_dim)\n",
    "\n",
    "#######\n",
    "# Encoder(Input) ----> Encoder, this is the result of the encoder\n",
    "input_encoded_m = input_encoder_m(input_sequence)\n",
    "input_encoded_c = input_encoder_c(input_sequence)\n",
    "question_encoded = question_encoder(question)\n",
    "\n",
    "match = dot([input_encoded_m, question_encoded], axes=(2, 2))\n",
    "match = Activation('softmax')(match)\n",
    "\n",
    "response = add([match, input_encoded_c])\n",
    "response = Permute((2, 1))(response)\n",
    "\n",
    "answer = concatenate([response, question_encoded])"
   ]
  },
  {
   "cell_type": "code",
   "execution_count": 71,
   "metadata": {},
   "outputs": [
    {
     "data": {
      "text/plain": [
       "<tf.Tensor 'sequential_12/dropout_14/cond/Identity:0' shape=(None, 6, 64) dtype=float32>"
      ]
     },
     "execution_count": 71,
     "metadata": {},
     "output_type": "execute_result"
    }
   ],
   "source": [
    "question_encoded"
   ]
  },
  {
   "cell_type": "code",
   "execution_count": 72,
   "metadata": {},
   "outputs": [
    {
     "data": {
      "text/plain": [
       "<tf.Tensor 'concatenate_4/concat:0' shape=(None, 6, 220) dtype=float32>"
      ]
     },
     "execution_count": 72,
     "metadata": {},
     "output_type": "execute_result"
    }
   ],
   "source": [
    "answer"
   ]
  },
  {
   "cell_type": "code",
   "execution_count": 73,
   "metadata": {},
   "outputs": [
    {
     "data": {
      "text/plain": [
       "<tf.Tensor 'input_8:0' shape=(None, 6) dtype=float32>"
      ]
     },
     "execution_count": 73,
     "metadata": {},
     "output_type": "execute_result"
    }
   ],
   "source": [
    "question"
   ]
  },
  {
   "cell_type": "code",
   "execution_count": 74,
   "metadata": {},
   "outputs": [
    {
     "name": "stdout",
     "output_type": "stream",
     "text": [
      "Model: \"model_3\"\n",
      "__________________________________________________________________________________________________\n",
      "Layer (type)                    Output Shape         Param #     Connected to                     \n",
      "==================================================================================================\n",
      "input_7 (InputLayer)            (None, 156)          0                                            \n",
      "__________________________________________________________________________________________________\n",
      "input_8 (InputLayer)            (None, 6)            0                                            \n",
      "__________________________________________________________________________________________________\n",
      "sequential_10 (Sequential)      multiple             2432        input_7[0][0]                    \n",
      "__________________________________________________________________________________________________\n",
      "sequential_12 (Sequential)      (None, 6, 64)        2432        input_8[0][0]                    \n",
      "__________________________________________________________________________________________________\n",
      "dot_4 (Dot)                     (None, 156, 6)       0           sequential_10[1][0]              \n",
      "                                                                 sequential_12[1][0]              \n",
      "__________________________________________________________________________________________________\n",
      "activation_6 (Activation)       (None, 156, 6)       0           dot_4[0][0]                      \n",
      "__________________________________________________________________________________________________\n",
      "sequential_11 (Sequential)      multiple             228         input_7[0][0]                    \n",
      "__________________________________________________________________________________________________\n",
      "add_4 (Add)                     (None, 156, 6)       0           activation_6[0][0]               \n",
      "                                                                 sequential_11[1][0]              \n",
      "__________________________________________________________________________________________________\n",
      "permute_4 (Permute)             (None, 6, 156)       0           add_4[0][0]                      \n",
      "__________________________________________________________________________________________________\n",
      "concatenate_4 (Concatenate)     (None, 6, 220)       0           permute_4[0][0]                  \n",
      "                                                                 sequential_12[1][0]              \n",
      "__________________________________________________________________________________________________\n",
      "lstm_8 (LSTM)                   (None, 32)           32384       concatenate_4[0][0]              \n",
      "__________________________________________________________________________________________________\n",
      "dropout_15 (Dropout)            (None, 32)           0           lstm_8[0][0]                     \n",
      "__________________________________________________________________________________________________\n",
      "dense_3 (Dense)                 (None, 38)           1254        dropout_15[0][0]                 \n",
      "__________________________________________________________________________________________________\n",
      "activation_7 (Activation)       (None, 38)           0           dense_3[0][0]                    \n",
      "==================================================================================================\n",
      "Total params: 38,730\n",
      "Trainable params: 38,730\n",
      "Non-trainable params: 0\n",
      "__________________________________________________________________________________________________\n"
     ]
    }
   ],
   "source": [
    "answer = LSTM(32)(answer)\n",
    "answer = Dropout(0.5)(answer)\n",
    "answer = Dense(vocab_size)(answer) # (samples, vocab_size) # Yes/ No\n",
    "answer = Activation(\"softmax\")(answer)\n",
    "model = Model([input_sequence, question], answer)\n",
    "model.compile(optimizer=\"rmsprop\", loss=\"categorical_crossentropy\", metrics=[\"accuracy\"])\n",
    "model.summary()"
   ]
  },
  {
   "cell_type": "code",
   "execution_count": 76,
   "metadata": {},
   "outputs": [
    {
     "data": {
      "text/plain": [
       "<tf.Tensor 'activation_7/Softmax:0' shape=(None, 38) dtype=float32>"
      ]
     },
     "execution_count": 76,
     "metadata": {},
     "output_type": "execute_result"
    }
   ],
   "source": [
    "answer"
   ]
  },
  {
   "cell_type": "code",
   "execution_count": 79,
   "metadata": {},
   "outputs": [
    {
     "data": {
      "text/plain": [
       "array([list([1, 16, 4, 2, 35, 7, 12, 24, 26, 4, 22, 7])], dtype=object)"
      ]
     },
     "execution_count": 79,
     "metadata": {},
     "output_type": "execute_result"
    }
   ],
   "source": [
    "answers_test[0]"
   ]
  },
  {
   "cell_type": "code",
   "execution_count": 90,
   "metadata": {},
   "outputs": [
    {
     "name": "stdout",
     "output_type": "stream",
     "text": [
      "Train on 10000 samples, validate on 1000 samples\n",
      "Epoch 1/100\n",
      "10000/10000 [==============================] - 2s 184us/step - loss: 0.6937 - accuracy: 0.5042 - val_loss: 0.6937 - val_accuracy: 0.4750\n",
      "Epoch 2/100\n",
      "10000/10000 [==============================] - 2s 180us/step - loss: 0.6929 - accuracy: 0.5083 - val_loss: 0.6940 - val_accuracy: 0.4860\n",
      "Epoch 3/100\n",
      "10000/10000 [==============================] - 2s 184us/step - loss: 0.6858 - accuracy: 0.5319 - val_loss: 0.6903 - val_accuracy: 0.5000\n",
      "Epoch 4/100\n",
      "10000/10000 [==============================] - 2s 183us/step - loss: 0.6693 - accuracy: 0.5763 - val_loss: 0.6497 - val_accuracy: 0.6380\n",
      "Epoch 5/100\n",
      "10000/10000 [==============================] - 2s 183us/step - loss: 0.6232 - accuracy: 0.6660 - val_loss: 0.5904 - val_accuracy: 0.7150\n",
      "Epoch 6/100\n",
      "10000/10000 [==============================] - 2s 182us/step - loss: 0.5818 - accuracy: 0.7009 - val_loss: 0.5662 - val_accuracy: 0.7180\n",
      "Epoch 7/100\n",
      "10000/10000 [==============================] - 2s 183us/step - loss: 0.5471 - accuracy: 0.7320 - val_loss: 0.5232 - val_accuracy: 0.7540\n",
      "Epoch 8/100\n",
      "10000/10000 [==============================] - 2s 186us/step - loss: 0.5200 - accuracy: 0.7566 - val_loss: 0.4824 - val_accuracy: 0.7870\n",
      "Epoch 9/100\n",
      "10000/10000 [==============================] - 2s 186us/step - loss: 0.4902 - accuracy: 0.7794 - val_loss: 0.4635 - val_accuracy: 0.7910\n",
      "Epoch 10/100\n",
      "10000/10000 [==============================] - 2s 182us/step - loss: 0.4670 - accuracy: 0.7956 - val_loss: 0.4389 - val_accuracy: 0.8030\n",
      "Epoch 11/100\n",
      "10000/10000 [==============================] - 2s 184us/step - loss: 0.4463 - accuracy: 0.8074 - val_loss: 0.4292 - val_accuracy: 0.8200\n",
      "Epoch 12/100\n",
      "10000/10000 [==============================] - 2s 183us/step - loss: 0.4285 - accuracy: 0.8217 - val_loss: 0.4181 - val_accuracy: 0.8230\n",
      "Epoch 13/100\n",
      "10000/10000 [==============================] - 2s 182us/step - loss: 0.4057 - accuracy: 0.8266 - val_loss: 0.4138 - val_accuracy: 0.8230\n",
      "Epoch 14/100\n",
      "10000/10000 [==============================] - 2s 181us/step - loss: 0.3979 - accuracy: 0.8339 - val_loss: 0.4016 - val_accuracy: 0.8280\n",
      "Epoch 15/100\n",
      "10000/10000 [==============================] - 2s 182us/step - loss: 0.3801 - accuracy: 0.8442 - val_loss: 0.4029 - val_accuracy: 0.8210\n",
      "Epoch 16/100\n",
      "10000/10000 [==============================] - 2s 180us/step - loss: 0.3786 - accuracy: 0.8421 - val_loss: 0.4012 - val_accuracy: 0.8210\n",
      "Epoch 17/100\n",
      "10000/10000 [==============================] - 2s 185us/step - loss: 0.3757 - accuracy: 0.8442 - val_loss: 0.4047 - val_accuracy: 0.8310\n",
      "Epoch 18/100\n",
      "10000/10000 [==============================] - 2s 186us/step - loss: 0.3679 - accuracy: 0.8442 - val_loss: 0.3888 - val_accuracy: 0.8270\n",
      "Epoch 19/100\n",
      "10000/10000 [==============================] - 2s 184us/step - loss: 0.3556 - accuracy: 0.8483 - val_loss: 0.4025 - val_accuracy: 0.8240\n",
      "Epoch 20/100\n",
      "10000/10000 [==============================] - 2s 183us/step - loss: 0.3529 - accuracy: 0.8480 - val_loss: 0.3985 - val_accuracy: 0.8260\n",
      "Epoch 21/100\n",
      "10000/10000 [==============================] - 2s 181us/step - loss: 0.3522 - accuracy: 0.8487 - val_loss: 0.3809 - val_accuracy: 0.8200\n",
      "Epoch 22/100\n",
      "10000/10000 [==============================] - 2s 186us/step - loss: 0.3456 - accuracy: 0.8522 - val_loss: 0.4081 - val_accuracy: 0.8220\n",
      "Epoch 23/100\n",
      "10000/10000 [==============================] - 2s 183us/step - loss: 0.3422 - accuracy: 0.8527 - val_loss: 0.3856 - val_accuracy: 0.8200\n",
      "Epoch 24/100\n",
      "10000/10000 [==============================] - 2s 184us/step - loss: 0.3362 - accuracy: 0.8560 - val_loss: 0.3821 - val_accuracy: 0.8270\n",
      "Epoch 25/100\n",
      "10000/10000 [==============================] - 2s 190us/step - loss: 0.3290 - accuracy: 0.8610 - val_loss: 0.3777 - val_accuracy: 0.8260\n",
      "Epoch 26/100\n",
      "10000/10000 [==============================] - 2s 185us/step - loss: 0.3314 - accuracy: 0.8590 - val_loss: 0.3796 - val_accuracy: 0.8300\n",
      "Epoch 27/100\n",
      "10000/10000 [==============================] - 2s 182us/step - loss: 0.3243 - accuracy: 0.8612 - val_loss: 0.3845 - val_accuracy: 0.8210\n",
      "Epoch 28/100\n",
      "10000/10000 [==============================] - 2s 184us/step - loss: 0.3179 - accuracy: 0.8618 - val_loss: 0.3700 - val_accuracy: 0.8360\n",
      "Epoch 29/100\n",
      "10000/10000 [==============================] - 2s 182us/step - loss: 0.3170 - accuracy: 0.8642 - val_loss: 0.3679 - val_accuracy: 0.8310\n",
      "Epoch 30/100\n",
      "10000/10000 [==============================] - 2s 183us/step - loss: 0.3133 - accuracy: 0.8673 - val_loss: 0.3546 - val_accuracy: 0.8340\n",
      "Epoch 31/100\n",
      "10000/10000 [==============================] - 2s 184us/step - loss: 0.3140 - accuracy: 0.8620 - val_loss: 0.3612 - val_accuracy: 0.8400\n",
      "Epoch 32/100\n",
      "10000/10000 [==============================] - 2s 182us/step - loss: 0.3079 - accuracy: 0.8662 - val_loss: 0.3641 - val_accuracy: 0.8400\n",
      "Epoch 33/100\n",
      "10000/10000 [==============================] - 2s 182us/step - loss: 0.3033 - accuracy: 0.8690 - val_loss: 0.3568 - val_accuracy: 0.8310\n",
      "Epoch 34/100\n",
      "10000/10000 [==============================] - 2s 183us/step - loss: 0.3033 - accuracy: 0.8720 - val_loss: 0.3552 - val_accuracy: 0.8320\n",
      "Epoch 35/100\n",
      "10000/10000 [==============================] - 2s 184us/step - loss: 0.3003 - accuracy: 0.8678 - val_loss: 0.3777 - val_accuracy: 0.8360\n",
      "Epoch 36/100\n",
      "10000/10000 [==============================] - 2s 180us/step - loss: 0.3013 - accuracy: 0.8681 - val_loss: 0.3630 - val_accuracy: 0.8300\n",
      "Epoch 37/100\n",
      "10000/10000 [==============================] - 2s 181us/step - loss: 0.3009 - accuracy: 0.8683 - val_loss: 0.3641 - val_accuracy: 0.8360\n",
      "Epoch 38/100\n",
      "10000/10000 [==============================] - 2s 177us/step - loss: 0.2955 - accuracy: 0.8726 - val_loss: 0.3686 - val_accuracy: 0.8360\n",
      "Epoch 39/100\n",
      "10000/10000 [==============================] - 2s 184us/step - loss: 0.2894 - accuracy: 0.8759 - val_loss: 0.3767 - val_accuracy: 0.8390\n",
      "Epoch 40/100\n",
      "10000/10000 [==============================] - 2s 185us/step - loss: 0.2936 - accuracy: 0.8712 - val_loss: 0.3752 - val_accuracy: 0.8340\n",
      "Epoch 41/100\n",
      "10000/10000 [==============================] - 2s 183us/step - loss: 0.2914 - accuracy: 0.8726 - val_loss: 0.3606 - val_accuracy: 0.8320\n",
      "Epoch 42/100\n",
      "10000/10000 [==============================] - 2s 182us/step - loss: 0.2880 - accuracy: 0.8743 - val_loss: 0.3656 - val_accuracy: 0.8390\n",
      "Epoch 43/100\n",
      "10000/10000 [==============================] - 2s 179us/step - loss: 0.2848 - accuracy: 0.8743 - val_loss: 0.3819 - val_accuracy: 0.8380\n",
      "Epoch 44/100\n",
      "10000/10000 [==============================] - 2s 180us/step - loss: 0.2842 - accuracy: 0.8763 - val_loss: 0.3727 - val_accuracy: 0.8290\n",
      "Epoch 45/100\n",
      "10000/10000 [==============================] - 2s 181us/step - loss: 0.2861 - accuracy: 0.8760 - val_loss: 0.3631 - val_accuracy: 0.8360\n",
      "Epoch 46/100\n",
      "10000/10000 [==============================] - 2s 181us/step - loss: 0.2867 - accuracy: 0.8754 - val_loss: 0.3794 - val_accuracy: 0.8410\n",
      "Epoch 47/100\n",
      "10000/10000 [==============================] - 2s 182us/step - loss: 0.2792 - accuracy: 0.8783 - val_loss: 0.3737 - val_accuracy: 0.8380\n",
      "Epoch 48/100\n",
      "10000/10000 [==============================] - 2s 180us/step - loss: 0.2753 - accuracy: 0.8808 - val_loss: 0.3891 - val_accuracy: 0.8330\n",
      "Epoch 49/100\n",
      "10000/10000 [==============================] - 2s 181us/step - loss: 0.2798 - accuracy: 0.8782 - val_loss: 0.3826 - val_accuracy: 0.8280\n",
      "Epoch 50/100\n",
      "10000/10000 [==============================] - 2s 183us/step - loss: 0.2812 - accuracy: 0.8789 - val_loss: 0.3761 - val_accuracy: 0.8330\n",
      "Epoch 51/100\n",
      "10000/10000 [==============================] - 2s 180us/step - loss: 0.2750 - accuracy: 0.8827 - val_loss: 0.3621 - val_accuracy: 0.8400\n",
      "Epoch 52/100\n",
      "10000/10000 [==============================] - 2s 182us/step - loss: 0.2730 - accuracy: 0.8802 - val_loss: 0.3784 - val_accuracy: 0.8340\n",
      "Epoch 53/100\n",
      "10000/10000 [==============================] - 2s 181us/step - loss: 0.2727 - accuracy: 0.8828 - val_loss: 0.4080 - val_accuracy: 0.8290\n",
      "Epoch 54/100\n",
      "10000/10000 [==============================] - 2s 182us/step - loss: 0.2675 - accuracy: 0.8841 - val_loss: 0.3775 - val_accuracy: 0.8310\n",
      "Epoch 55/100\n"
     ]
    },
    {
     "name": "stdout",
     "output_type": "stream",
     "text": [
      "10000/10000 [==============================] - 2s 179us/step - loss: 0.2710 - accuracy: 0.8831 - val_loss: 0.3829 - val_accuracy: 0.8360\n",
      "Epoch 56/100\n",
      "10000/10000 [==============================] - 2s 176us/step - loss: 0.2647 - accuracy: 0.8863 - val_loss: 0.3869 - val_accuracy: 0.8350\n",
      "Epoch 57/100\n",
      "10000/10000 [==============================] - 2s 178us/step - loss: 0.2694 - accuracy: 0.8835 - val_loss: 0.3826 - val_accuracy: 0.8350\n",
      "Epoch 58/100\n",
      "10000/10000 [==============================] - 2s 178us/step - loss: 0.2646 - accuracy: 0.8842 - val_loss: 0.3852 - val_accuracy: 0.8370\n",
      "Epoch 59/100\n",
      "10000/10000 [==============================] - 2s 178us/step - loss: 0.2644 - accuracy: 0.8846 - val_loss: 0.3811 - val_accuracy: 0.8370\n",
      "Epoch 60/100\n",
      "10000/10000 [==============================] - 2s 183us/step - loss: 0.2622 - accuracy: 0.8848 - val_loss: 0.4007 - val_accuracy: 0.8350\n",
      "Epoch 61/100\n",
      "10000/10000 [==============================] - 2s 178us/step - loss: 0.2630 - accuracy: 0.8861 - val_loss: 0.3897 - val_accuracy: 0.8380\n",
      "Epoch 62/100\n",
      "10000/10000 [==============================] - 2s 180us/step - loss: 0.2622 - accuracy: 0.8884 - val_loss: 0.3860 - val_accuracy: 0.8300\n",
      "Epoch 63/100\n",
      "10000/10000 [==============================] - 2s 178us/step - loss: 0.2632 - accuracy: 0.8898 - val_loss: 0.3884 - val_accuracy: 0.8320\n",
      "Epoch 64/100\n",
      "10000/10000 [==============================] - 2s 179us/step - loss: 0.2637 - accuracy: 0.8882 - val_loss: 0.3989 - val_accuracy: 0.8360\n",
      "Epoch 65/100\n",
      "10000/10000 [==============================] - 2s 171us/step - loss: 0.2602 - accuracy: 0.8878 - val_loss: 0.3993 - val_accuracy: 0.8360\n",
      "Epoch 66/100\n",
      "10000/10000 [==============================] - 2s 179us/step - loss: 0.2622 - accuracy: 0.8893 - val_loss: 0.4140 - val_accuracy: 0.8240\n",
      "Epoch 67/100\n",
      "10000/10000 [==============================] - 2s 178us/step - loss: 0.2532 - accuracy: 0.8891 - val_loss: 0.4057 - val_accuracy: 0.8260\n",
      "Epoch 68/100\n",
      "10000/10000 [==============================] - 2s 191us/step - loss: 0.2508 - accuracy: 0.8903 - val_loss: 0.4098 - val_accuracy: 0.8340\n",
      "Epoch 69/100\n",
      "10000/10000 [==============================] - 2s 197us/step - loss: 0.2535 - accuracy: 0.8904 - val_loss: 0.4006 - val_accuracy: 0.8250\n",
      "Epoch 70/100\n",
      "10000/10000 [==============================] - 2s 197us/step - loss: 0.2533 - accuracy: 0.8920 - val_loss: 0.3879 - val_accuracy: 0.8280\n",
      "Epoch 71/100\n",
      "10000/10000 [==============================] - 2s 189us/step - loss: 0.2495 - accuracy: 0.8944 - val_loss: 0.4164 - val_accuracy: 0.8300\n",
      "Epoch 72/100\n",
      "10000/10000 [==============================] - 2s 194us/step - loss: 0.2472 - accuracy: 0.8926 - val_loss: 0.4226 - val_accuracy: 0.8420\n",
      "Epoch 73/100\n",
      "10000/10000 [==============================] - 2s 192us/step - loss: 0.2436 - accuracy: 0.8961 - val_loss: 0.4190 - val_accuracy: 0.8360\n",
      "Epoch 74/100\n",
      "10000/10000 [==============================] - 2s 185us/step - loss: 0.2451 - accuracy: 0.8946 - val_loss: 0.4106 - val_accuracy: 0.8350\n",
      "Epoch 75/100\n",
      "10000/10000 [==============================] - 2s 184us/step - loss: 0.2455 - accuracy: 0.8958 - val_loss: 0.4311 - val_accuracy: 0.8300\n",
      "Epoch 76/100\n",
      "10000/10000 [==============================] - 2s 182us/step - loss: 0.2431 - accuracy: 0.8951 - val_loss: 0.3986 - val_accuracy: 0.8310\n",
      "Epoch 77/100\n",
      "10000/10000 [==============================] - 2s 181us/step - loss: 0.2387 - accuracy: 0.8973 - val_loss: 0.4378 - val_accuracy: 0.8250\n",
      "Epoch 78/100\n",
      "10000/10000 [==============================] - 2s 177us/step - loss: 0.2417 - accuracy: 0.8972 - val_loss: 0.4232 - val_accuracy: 0.8240\n",
      "Epoch 79/100\n",
      "10000/10000 [==============================] - 2s 180us/step - loss: 0.2388 - accuracy: 0.8967 - val_loss: 0.4210 - val_accuracy: 0.8260\n",
      "Epoch 80/100\n",
      "10000/10000 [==============================] - 2s 182us/step - loss: 0.2350 - accuracy: 0.9004 - val_loss: 0.4501 - val_accuracy: 0.8300\n",
      "Epoch 81/100\n",
      "10000/10000 [==============================] - 2s 181us/step - loss: 0.2363 - accuracy: 0.8974 - val_loss: 0.4090 - val_accuracy: 0.8340\n",
      "Epoch 82/100\n",
      "10000/10000 [==============================] - 2s 185us/step - loss: 0.2339 - accuracy: 0.9011 - val_loss: 0.4864 - val_accuracy: 0.8320\n",
      "Epoch 83/100\n",
      "10000/10000 [==============================] - 2s 187us/step - loss: 0.2361 - accuracy: 0.8977 - val_loss: 0.4529 - val_accuracy: 0.8310\n",
      "Epoch 84/100\n",
      "10000/10000 [==============================] - 2s 192us/step - loss: 0.2282 - accuracy: 0.9014 - val_loss: 0.4450 - val_accuracy: 0.8320\n",
      "Epoch 85/100\n",
      "10000/10000 [==============================] - 2s 182us/step - loss: 0.2290 - accuracy: 0.9023 - val_loss: 0.4616 - val_accuracy: 0.8270\n",
      "Epoch 86/100\n",
      "10000/10000 [==============================] - 2s 181us/step - loss: 0.2264 - accuracy: 0.9035 - val_loss: 0.4409 - val_accuracy: 0.8290\n",
      "Epoch 87/100\n",
      "10000/10000 [==============================] - 2s 181us/step - loss: 0.2268 - accuracy: 0.9056 - val_loss: 0.4680 - val_accuracy: 0.8290\n",
      "Epoch 88/100\n",
      "10000/10000 [==============================] - 2s 180us/step - loss: 0.2254 - accuracy: 0.9043 - val_loss: 0.4248 - val_accuracy: 0.8300\n",
      "Epoch 89/100\n",
      "10000/10000 [==============================] - 2s 181us/step - loss: 0.2287 - accuracy: 0.9028 - val_loss: 0.4369 - val_accuracy: 0.8290\n",
      "Epoch 90/100\n",
      "10000/10000 [==============================] - 2s 180us/step - loss: 0.2251 - accuracy: 0.9044 - val_loss: 0.4704 - val_accuracy: 0.8280\n",
      "Epoch 91/100\n",
      "10000/10000 [==============================] - 2s 180us/step - loss: 0.2206 - accuracy: 0.9073 - val_loss: 0.4672 - val_accuracy: 0.8280\n",
      "Epoch 92/100\n",
      "10000/10000 [==============================] - 2s 180us/step - loss: 0.2192 - accuracy: 0.9045 - val_loss: 0.4695 - val_accuracy: 0.8320\n",
      "Epoch 93/100\n",
      "10000/10000 [==============================] - 2s 184us/step - loss: 0.2236 - accuracy: 0.9071 - val_loss: 0.4515 - val_accuracy: 0.8310\n",
      "Epoch 94/100\n",
      "10000/10000 [==============================] - 2s 182us/step - loss: 0.2206 - accuracy: 0.9084 - val_loss: 0.4495 - val_accuracy: 0.8250\n",
      "Epoch 95/100\n",
      "10000/10000 [==============================] - 2s 180us/step - loss: 0.2152 - accuracy: 0.9092 - val_loss: 0.4577 - val_accuracy: 0.8300\n",
      "Epoch 96/100\n",
      "10000/10000 [==============================] - 2s 183us/step - loss: 0.2130 - accuracy: 0.9103 - val_loss: 0.4612 - val_accuracy: 0.8290\n",
      "Epoch 97/100\n",
      "10000/10000 [==============================] - 2s 184us/step - loss: 0.2204 - accuracy: 0.9083 - val_loss: 0.4986 - val_accuracy: 0.8270\n",
      "Epoch 98/100\n",
      "10000/10000 [==============================] - 2s 179us/step - loss: 0.2144 - accuracy: 0.9121 - val_loss: 0.4721 - val_accuracy: 0.8370\n",
      "Epoch 99/100\n",
      "10000/10000 [==============================] - 2s 183us/step - loss: 0.2153 - accuracy: 0.9089 - val_loss: 0.4598 - val_accuracy: 0.8300\n",
      "Epoch 100/100\n",
      "10000/10000 [==============================] - 2s 183us/step - loss: 0.2090 - accuracy: 0.9116 - val_loss: 0.4690 - val_accuracy: 0.8260\n",
      "CPU times: user 4min 41s, sys: 18.4 s, total: 4min 59s\n",
      "Wall time: 3min 2s\n"
     ]
    }
   ],
   "source": [
    "%%time\n",
    "history = model.fit([inputs_train, questions_train], \n",
    "                    answers_train, \n",
    "                    batch_size=32, \n",
    "                    epochs=100, \n",
    "                    validation_data=([inputs_test, questions_test], answers_test))"
   ]
  },
  {
   "cell_type": "markdown",
   "metadata": {},
   "source": [
    "### Explore the training history"
   ]
  },
  {
   "cell_type": "code",
   "execution_count": 92,
   "metadata": {},
   "outputs": [
    {
     "name": "stdout",
     "output_type": "stream",
     "text": [
      "dict_keys(['val_loss', 'val_accuracy', 'loss', 'accuracy'])\n"
     ]
    },
    {
     "data": {
      "image/png": "[encoded data removed]",
      "text/plain": [
       "<Figure size 432x288 with 1 Axes>"
      ]
     },
     "metadata": {
      "needs_background": "light"
     },
     "output_type": "display_data"
    }
   ],
   "source": [
    "import matplotlib.pyplot as plt\n",
    "%matplotlib inline\n",
    "print(history.history.keys())\n",
    "# summarize history for accuracy\n",
    "plt.plot(history.history['accuracy'])\n",
    "plt.plot(history.history['val_accuracy'])\n",
    "plt.title('model accuracy')\n",
    "plt.ylabel('accuracy')\n",
    "plt.xlabel('epoch')\n",
    "plt.legend(['train', 'test'], loc='upper left')\n",
    "plt.show()"
   ]
  },
  {
   "cell_type": "code",
   "execution_count": 93,
   "metadata": {},
   "outputs": [],
   "source": [
    "pred_results = model.predict(([inputs_test, questions_test]))"
   ]
  },
  {
   "cell_type": "markdown",
   "metadata": {},
   "source": [
    "### Manualy validate some examples"
   ]
  },
  {
   "cell_type": "code",
   "execution_count": 94,
   "metadata": {},
   "outputs": [
    {
     "data": {
      "text/plain": [
       "['Mary',\n",
       " 'got',\n",
       " 'the',\n",
       " 'milk',\n",
       " 'there',\n",
       " '.',\n",
       " 'John',\n",
       " 'moved',\n",
       " 'to',\n",
       " 'the',\n",
       " 'bedroom',\n",
       " '.']"
      ]
     },
     "execution_count": 94,
     "metadata": {},
     "output_type": "execute_result"
    }
   ],
   "source": [
    "test_data[0][0]"
   ]
  },
  {
   "cell_type": "code",
   "execution_count": 95,
   "metadata": {},
   "outputs": [
    {
     "data": {
      "text/plain": [
       "['Is', 'John', 'in', 'the', 'kitchen', '?']"
      ]
     },
     "execution_count": 95,
     "metadata": {},
     "output_type": "execute_result"
    }
   ],
   "source": [
    "test_data[0][1]"
   ]
  },
  {
   "cell_type": "code",
   "execution_count": 96,
   "metadata": {},
   "outputs": [
    {
     "data": {
      "text/plain": [
       "'no'"
      ]
     },
     "execution_count": 96,
     "metadata": {},
     "output_type": "execute_result"
    }
   ],
   "source": [
    "test_data[0][2]"
   ]
  },
  {
   "cell_type": "code",
   "execution_count": 99,
   "metadata": {},
   "outputs": [
    {
     "data": {
      "text/plain": [
       "'no'"
      ]
     },
     "execution_count": 99,
     "metadata": {},
     "output_type": "execute_result"
    }
   ],
   "source": [
    "val_max = np.argmax(pred_results[0])\n",
    "for key, val in tokenizer.word_index.items():\n",
    "    if val == val_max:\n",
    "        k = key\n",
    "k"
   ]
  },
  {
   "cell_type": "markdown",
   "metadata": {},
   "source": [
    "It seems to be working!"
   ]
  },
  {
   "cell_type": "code",
   "execution_count": 100,
   "metadata": {},
   "outputs": [
    {
     "data": {
      "text/plain": [
       "0.99998367"
      ]
     },
     "execution_count": 100,
     "metadata": {},
     "output_type": "execute_result"
    }
   ],
   "source": [
    "pred_results[0][val_max]"
   ]
  },
  {
   "cell_type": "markdown",
   "metadata": {},
   "source": [
    "It is 99% sure the answer is no.\n",
    "\n",
    "### Create a new story to play with\n",
    "We only are allowed to use words within the vocabulary we trained the model as these are the only words it knows."
   ]
  },
  {
   "cell_type": "code",
   "execution_count": 101,
   "metadata": {},
   "outputs": [
    {
     "data": {
      "text/plain": [
       "{'.',\n",
       " '?',\n",
       " 'Daniel',\n",
       " 'Is',\n",
       " 'John',\n",
       " 'Mary',\n",
       " 'Sandra',\n",
       " 'apple',\n",
       " 'back',\n",
       " 'bathroom',\n",
       " 'bedroom',\n",
       " 'discarded',\n",
       " 'down',\n",
       " 'dropped',\n",
       " 'football',\n",
       " 'garden',\n",
       " 'got',\n",
       " 'grabbed',\n",
       " 'hallway',\n",
       " 'in',\n",
       " 'journeyed',\n",
       " 'kitchen',\n",
       " 'left',\n",
       " 'milk',\n",
       " 'moved',\n",
       " 'no',\n",
       " 'office',\n",
       " 'picked',\n",
       " 'put',\n",
       " 'the',\n",
       " 'there',\n",
       " 'to',\n",
       " 'took',\n",
       " 'travelled',\n",
       " 'up',\n",
       " 'went',\n",
       " 'yes'}"
      ]
     },
     "execution_count": 101,
     "metadata": {},
     "output_type": "execute_result"
    }
   ],
   "source": [
    "vocab"
   ]
  },
  {
   "cell_type": "code",
   "execution_count": 108,
   "metadata": {},
   "outputs": [],
   "source": [
    "my_story = \"Sandra left the office . Daniel went to the kitchen\"\n",
    "my_question = \"Is Daniel in the office ?\""
   ]
  },
  {
   "cell_type": "code",
   "execution_count": 109,
   "metadata": {},
   "outputs": [
    {
     "data": {
      "text/plain": [
       "[(['Sandra',\n",
       "   'left',\n",
       "   'the',\n",
       "   'office',\n",
       "   '.',\n",
       "   'Daniel',\n",
       "   'went',\n",
       "   'to',\n",
       "   'the',\n",
       "   'kitchen'],\n",
       "  ['Is', 'Daniel', 'in', 'the', 'office', '?'],\n",
       "  'yes')]"
      ]
     },
     "execution_count": 109,
     "metadata": {},
     "output_type": "execute_result"
    }
   ],
   "source": [
    "my_data = [(my_story.split(), my_question.split(), 'yes')]\n",
    "my_data"
   ]
  },
  {
   "cell_type": "code",
   "execution_count": 110,
   "metadata": {},
   "outputs": [],
   "source": [
    "my_story, my_question, my_answer = vectorize_stories(my_data, tokenizer.word_index, max_story_len, max_question_len)"
   ]
  },
  {
   "cell_type": "code",
   "execution_count": 111,
   "metadata": {},
   "outputs": [
    {
     "data": {
      "text/plain": [
       "'yes'"
      ]
     },
     "execution_count": 111,
     "metadata": {},
     "output_type": "execute_result"
    }
   ],
   "source": [
    "pred_results = model.predict([my_story, my_question])\n",
    "val_max = np.argmax(pred_results[0])\n",
    "for key, val in tokenizer.word_index.items():\n",
    "    if val == val_max:\n",
    "        k = key\n",
    "k"
   ]
  },
  {
   "cell_type": "code",
   "execution_count": null,
   "metadata": {},
   "outputs": [],
   "source": []
  }
 ],
 "metadata": {
  "kernelspec": {
   "display_name": "Python 3",
   "language": "python",
   "name": "python3"
  },
  "language_info": {
   "codemirror_mode": {
    "name": "ipython",
    "version": 3
   },
   "file_extension": ".py",
   "mimetype": "text/x-python",
   "name": "python",
   "nbconvert_exporter": "python",
   "pygments_lexer": "ipython3",
   "version": "3.7.7"
  }
 },
 "nbformat": 4,
 "nbformat_minor": 4
}
