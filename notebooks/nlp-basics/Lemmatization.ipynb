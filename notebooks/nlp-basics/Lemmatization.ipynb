{
 "cells": [
  {
   "cell_type": "markdown",
   "metadata": {},
   "source": [
    "# Lemmatization\n",
    "Lemmatization goes beyond stemming by doing a morphological analysis of the words and find the roots of different words not by finding the longest common string but the actual root word. So for instance, the lemma of the word 'was' is 'be' since it's the same verb but different tense which is more powerful than trimming the words."
   ]
  },
  {
   "cell_type": "code",
   "execution_count": 1,
   "metadata": {},
   "outputs": [],
   "source": [
    "import spacy\n",
    "\n",
    "nlp = spacy.load(\"en_core_web_sm\")\n",
    "doc = nlp(\"I am a runner running in a race because I love to run since I ran today\")"
   ]
  },
  {
   "cell_type": "code",
   "execution_count": 7,
   "metadata": {},
   "outputs": [
    {
     "name": "stdout",
     "output_type": "stream",
     "text": [
      "I                   PRON                561228191312463089  \t-PRON-                        \n",
      "am                  VERB                10382539506755952630\tbe                            \n",
      "a                   DET                 11901859001352538922\ta                             \n",
      "runner              NOUN                12640964157389618806\trunner                        \n",
      "running             VERB                12767647472892411841\trun                           \n",
      "in                  ADP                 3002984154512732771 \tin                            \n",
      "a                   DET                 11901859001352538922\ta                             \n",
      "race                NOUN                8048469955494714898 \trace                          \n",
      "because             ADP                 16950148841647037698\tbecause                       \n",
      "I                   PRON                561228191312463089  \t-PRON-                        \n",
      "love                VERB                3702023516439754181 \tlove                          \n",
      "to                  PART                3791531372978436496 \tto                            \n",
      "run                 VERB                12767647472892411841\trun                           \n",
      "since               ADP                 10066841407251338481\tsince                         \n",
      "I                   PRON                561228191312463089  \t-PRON-                        \n",
      "ran                 VERB                12767647472892411841\trun                           \n",
      "today               NOUN                11042482332948150395\ttoday                         \n"
     ]
    }
   ],
   "source": [
    "for token in doc:\n",
    "    print(f\"{token.text:{20}}{token.pos_:{20}}{token.lemma:<{20}}\\t{token.lemma_:{30}}\")"
   ]
  },
  {
   "cell_type": "code",
   "execution_count": null,
   "metadata": {},
   "outputs": [],
   "source": []
  }
 ],
 "metadata": {
  "kernelspec": {
   "display_name": "Python 3",
   "language": "python",
   "name": "python3"
  },
  "language_info": {
   "codemirror_mode": {
    "name": "ipython",
    "version": 3
   },
   "file_extension": ".py",
   "mimetype": "text/x-python",
   "name": "python",
   "nbconvert_exporter": "python",
   "pygments_lexer": "ipython3",
   "version": "3.7.4"
  }
 },
 "nbformat": 4,
 "nbformat_minor": 2
}
