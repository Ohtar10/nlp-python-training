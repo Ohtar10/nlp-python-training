{
 "cells": [
  {
   "cell_type": "markdown",
   "metadata": {},
   "source": [
    "# Sentiment Analysis Assessment - Solution\n",
    "\n",
    "## Task #1: Perform vector arithmetic on your own words\n",
    "Write code that evaluates vector arithmetic on your own set of related words. The goal is to come as close to an expected word as possible. Please feel free to share success stories in the Q&A Forum for this section!"
   ]
  },
  {
   "cell_type": "code",
   "execution_count": 2,
   "metadata": {},
   "outputs": [],
   "source": [
    "# Import spaCy and load the language library. Remember to use a larger model!\n",
    "import spacy\n",
    "\n",
    "nlp = spacy.load('en_core_web_lg')"
   ]
  },
  {
   "cell_type": "code",
   "execution_count": 3,
   "metadata": {},
   "outputs": [],
   "source": [
    "# Choose the words you wish to compare, and obtain their vectors\n",
    "a = 'car'\n",
    "b = 'boat'\n",
    "c = 'airplane'\n",
    "\n",
    "av = nlp.vocab[a].vector\n",
    "bv = nlp.vocab[b].vector\n",
    "cv = nlp.vocab[c].vector"
   ]
  },
  {
   "cell_type": "code",
   "execution_count": 4,
   "metadata": {},
   "outputs": [],
   "source": [
    "# Import spatial and define a cosine_similarity function\n",
    "from scipy import spatial\n",
    "\n",
    "def cosine_similarity(v1, v2):\n",
    "    return 1 - spatial.distance.cosine(v1, v2)"
   ]
  },
  {
   "cell_type": "code",
   "execution_count": 5,
   "metadata": {},
   "outputs": [],
   "source": [
    "# Write an expression for vector arithmetic\n",
    "# For example: new_vector = word1 - word2 + word3\n",
    "water = nlp.vocab['water'].vector\n",
    "air = nlp.vocab['air'].vector\n",
    "\n",
    "nv = bv - water + air # Expect to get something closer to an airplane or something"
   ]
  },
  {
   "cell_type": "code",
   "execution_count": 6,
   "metadata": {},
   "outputs": [
    {
     "data": {
      "text/plain": [
       "[('boat', 0.6587398052215576),\n",
       " ('air', 0.6086523532867432),\n",
       " ('airplane', 0.5957858562469482),\n",
       " ('boats', 0.589165985584259),\n",
       " ('flight', 0.5855278372764587),\n",
       " ('aircraft', 0.5835665464401245),\n",
       " ('cruise', 0.5752798318862915),\n",
       " ('sail', 0.5558519959449768),\n",
       " ('plane', 0.5459532737731934),\n",
       " ('aboard', 0.5436309576034546)]"
      ]
     },
     "execution_count": 6,
     "metadata": {},
     "output_type": "execute_result"
    }
   ],
   "source": [
    "# List the top ten closest vectors in the vocabulary to the result of the expression above\n",
    "\n",
    "# Need to calculate the cosine similarity between the obtained new vector and all the vocabulary\n",
    "vocabulary = {word.text:cosine_similarity(word.vector, nv) for word in nlp.vocab \n",
    "              if word.has_vector and word.is_lower and word.is_alpha}\n",
    "\n",
    "# Sort the resulting vocabulary by the similarity in descending order\n",
    "sorted_vocab = sorted(vocabulary.items(), key=lambda v: v[1], reverse=True)\n",
    "sorted_vocab[:10]"
   ]
  },
  {
   "cell_type": "markdown",
   "metadata": {},
   "source": [
    "Naturally, boat is the first option, but observe the other options, we got, air, airplane, flight and aircraft which are very close to the intention when computing the new vector."
   ]
  },
  {
   "cell_type": "markdown",
   "metadata": {},
   "source": [
    "#### CHALLENGE: Write a function that takes in 3 strings, performs a-b+c arithmetic, and returns a top-ten result"
   ]
  },
  {
   "cell_type": "code",
   "execution_count": 7,
   "metadata": {},
   "outputs": [],
   "source": [
    "def vector_math(a,b,c):\n",
    "    av = nlp.vocab[a].vector\n",
    "    bv = nlp.vocab[b].vector\n",
    "    cv = nlp.vocab[c].vector\n",
    "    \n",
    "    nv = av - bv + cv\n",
    "    vocabulary = {word.text:cosine_similarity(word.vector, nv) for word in nlp.vocab \n",
    "              if word.has_vector and word.is_lower and word.is_alpha}\n",
    "    sorted_vocab = sorted(vocabulary.items(), key=lambda v: v[1], reverse=True)\n",
    "    return sorted_vocab[:10]"
   ]
  },
  {
   "cell_type": "code",
   "execution_count": 8,
   "metadata": {},
   "outputs": [
    {
     "data": {
      "text/plain": [
       "[('king', 0.8024259805679321),\n",
       " ('queen', 0.7880843877792358),\n",
       " ('prince', 0.6401076912879944),\n",
       " ('kings', 0.6208544373512268),\n",
       " ('princess', 0.6125636100769043),\n",
       " ('royal', 0.5800970792770386),\n",
       " ('throne', 0.5787012577056885),\n",
       " ('queens', 0.5743793845176697),\n",
       " ('monarch', 0.563362181186676),\n",
       " ('kingdom', 0.5520980954170227)]"
      ]
     },
     "execution_count": 8,
     "metadata": {},
     "output_type": "execute_result"
    }
   ],
   "source": [
    "# Test the function on known words:\n",
    "vector_math('king','man','woman')"
   ]
  },
  {
   "cell_type": "markdown",
   "metadata": {},
   "source": [
    "## Task #2: Perform VADER Sentiment Analysis on your own review\n",
    "Write code that returns a set of SentimentIntensityAnalyzer polarity scores based on your own written review."
   ]
  },
  {
   "cell_type": "code",
   "execution_count": 10,
   "metadata": {},
   "outputs": [],
   "source": [
    "# Import SentimentIntensityAnalyzer and create an sid object\n",
    "from nltk.sentiment.vader import SentimentIntensityAnalyzer\n",
    "\n",
    "sid = SentimentIntensityAnalyzer()"
   ]
  },
  {
   "cell_type": "code",
   "execution_count": 11,
   "metadata": {},
   "outputs": [],
   "source": [
    "# Write a review as one continuous string (multiple sentences are ok)\n",
    "review = 'This course is very nice, though I would expect more details in the embedding parts. Though I do not know if I will encounter that in the ANN section :)'"
   ]
  },
  {
   "cell_type": "code",
   "execution_count": 12,
   "metadata": {},
   "outputs": [
    {
     "data": {
      "text/plain": [
       "{'neg': 0.0, 'neu': 0.804, 'pos': 0.196, 'compound': 0.7264}"
      ]
     },
     "execution_count": 12,
     "metadata": {},
     "output_type": "execute_result"
    }
   ],
   "source": [
    "# Obtain the sid scores for your review\n",
    "sid.polarity_scores(review)"
   ]
  },
  {
   "cell_type": "markdown",
   "metadata": {},
   "source": [
    "### CHALLENGE: Write a function that takes in a review and returns a score of \"Positive\", \"Negative\" or \"Neutral\""
   ]
  },
  {
   "cell_type": "code",
   "execution_count": 14,
   "metadata": {},
   "outputs": [],
   "source": [
    "def review_rating(string, neutral_thresholds = (-0.2, 0.2)):\n",
    "    sid = SentimentIntensityAnalyzer()\n",
    "    scores = sid.polarity_scores(string)\n",
    "    compound = scores['compound']\n",
    "    # we rarely will encounter a zero score (neutral)\n",
    "    # So we will define a threshold, e.g., between -0.2 and 0.2\n",
    "    if compound < neutral_thresholds[0]:\n",
    "        return 'Negative'\n",
    "    elif compound > neutral_thresholds[0] and compound < neutral_thresholds[1]:\n",
    "        return 'Neutral'\n",
    "    else:\n",
    "        return 'Positive'"
   ]
  },
  {
   "cell_type": "code",
   "execution_count": 15,
   "metadata": {},
   "outputs": [
    {
     "data": {
      "text/plain": [
       "'Positive'"
      ]
     },
     "execution_count": 15,
     "metadata": {},
     "output_type": "execute_result"
    }
   ],
   "source": [
    "# Test the function on your review above:\n",
    "review_rating(review)"
   ]
  },
  {
   "cell_type": "markdown",
   "metadata": {},
   "source": [
    "## Great job!"
   ]
  }
 ],
 "metadata": {
  "kernelspec": {
   "display_name": "Python 3",
   "language": "python",
   "name": "python3"
  },
  "language_info": {
   "codemirror_mode": {
    "name": "ipython",
    "version": 3
   },
   "file_extension": ".py",
   "mimetype": "text/x-python",
   "name": "python",
   "nbconvert_exporter": "python",
   "pygments_lexer": "ipython3",
   "version": "3.7.4"
  }
 },
 "nbformat": 4,
 "nbformat_minor": 2
}
