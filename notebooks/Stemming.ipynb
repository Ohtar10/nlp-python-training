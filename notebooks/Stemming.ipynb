{
 "cells": [
  {
   "cell_type": "markdown",
   "metadata": {},
   "source": [
    "# Stemming\n",
    "\n",
    "Rowghly speaking, stemming is to find the largest word possible that can serve as a root for several similar words. It can me more complex than this, but essentially it is to form family of similar words that tend to share a common root, i.e., the stem.\n",
    "\n",
    "## Porter Stemmer\n",
    "This is the most common stemming algorithm to find stems, developed by [Martin Porter](https://en.wikipedia.org/wiki/Martin_Porter)"
   ]
  },
  {
   "cell_type": "code",
   "execution_count": 2,
   "metadata": {},
   "outputs": [],
   "source": [
    "import nltk\n",
    "from nltk.stem.porter import PorterStemmer\n",
    "\n",
    "p_stemmer = PorterStemmer()\n",
    "words = ['run', 'runner', 'ran', 'runs', 'easily', 'fairly']"
   ]
  },
  {
   "cell_type": "code",
   "execution_count": 5,
   "metadata": {},
   "outputs": [
    {
     "name": "stdout",
     "output_type": "stream",
     "text": [
      "run                 --> run\n",
      "runner              --> runner\n",
      "ran                 --> ran\n",
      "runs                --> run\n",
      "easily              --> easili\n",
      "fairly              --> fairli\n"
     ]
    }
   ],
   "source": [
    "for word in words:\n",
    "    print(f\"{word:{20}}--> {p_stemmer.stem(word)}\")"
   ]
  },
  {
   "cell_type": "markdown",
   "metadata": {},
   "source": [
    "## Snowball\n",
    "Snowball is an improvement over the Porter Stemmer."
   ]
  },
  {
   "cell_type": "code",
   "execution_count": 10,
   "metadata": {},
   "outputs": [
    {
     "name": "stdout",
     "output_type": "stream",
     "text": [
      "run                 --> run\n",
      "runner              --> runner\n",
      "ran                 --> ran\n",
      "runs                --> run\n",
      "easily              --> easili\n",
      "fairly              --> fair\n"
     ]
    }
   ],
   "source": [
    "from nltk.stem.snowball import SnowballStemmer\n",
    "\n",
    "s_stemmer = SnowballStemmer(language='english')\n",
    "for word in words:\n",
    "     print(f\"{word:{20}}--> {s_stemmer.stem(word)}\")"
   ]
  },
  {
   "cell_type": "markdown",
   "metadata": {},
   "source": [
    "Notice the difference in the word fair, which is better and more general.\n",
    "\n",
    "Let's see how it behaves with a harder set of words."
   ]
  },
  {
   "cell_type": "code",
   "execution_count": 11,
   "metadata": {},
   "outputs": [],
   "source": [
    "from typing import List\n",
    "\n",
    "def stem(words :List[str], stemmer) -> List[str]:\n",
    "    return [stemmer.stem(word) for word in words]"
   ]
  },
  {
   "cell_type": "code",
   "execution_count": 15,
   "metadata": {},
   "outputs": [
    {
     "data": {
      "text/html": [
       "<div>\n",
       "<style scoped>\n",
       "    .dataframe tbody tr th:only-of-type {\n",
       "        vertical-align: middle;\n",
       "    }\n",
       "\n",
       "    .dataframe tbody tr th {\n",
       "        vertical-align: top;\n",
       "    }\n",
       "\n",
       "    .dataframe thead th {\n",
       "        text-align: right;\n",
       "    }\n",
       "</style>\n",
       "<table border=\"1\" class=\"dataframe\">\n",
       "  <thead>\n",
       "    <tr style=\"text-align: right;\">\n",
       "      <th></th>\n",
       "      <th>word</th>\n",
       "      <th>porter</th>\n",
       "      <th>snowball</th>\n",
       "    </tr>\n",
       "  </thead>\n",
       "  <tbody>\n",
       "    <tr>\n",
       "      <th>0</th>\n",
       "      <td>generous</td>\n",
       "      <td>gener</td>\n",
       "      <td>generous</td>\n",
       "    </tr>\n",
       "    <tr>\n",
       "      <th>1</th>\n",
       "      <td>generation</td>\n",
       "      <td>gener</td>\n",
       "      <td>generat</td>\n",
       "    </tr>\n",
       "    <tr>\n",
       "      <th>2</th>\n",
       "      <td>generously</td>\n",
       "      <td>gener</td>\n",
       "      <td>generous</td>\n",
       "    </tr>\n",
       "    <tr>\n",
       "      <th>3</th>\n",
       "      <td>generate</td>\n",
       "      <td>gener</td>\n",
       "      <td>generat</td>\n",
       "    </tr>\n",
       "  </tbody>\n",
       "</table>\n",
       "</div>"
      ],
      "text/plain": [
       "         word porter  snowball\n",
       "0    generous  gener  generous\n",
       "1  generation  gener   generat\n",
       "2  generously  gener  generous\n",
       "3    generate  gener   generat"
      ]
     },
     "execution_count": 15,
     "metadata": {},
     "output_type": "execute_result"
    }
   ],
   "source": [
    "import pandas as pd\n",
    "\n",
    "# Notice these words share roots but mean totally different things\n",
    "words = ['generous', 'generation', 'generously', 'generate']\n",
    "with_porter = stem(words, p_stemmer)\n",
    "with_snowball = stem(words, s_stemmer)\n",
    "\n",
    "word_list = list(zip(words, with_porter, with_snowball))\n",
    "words_df = pd.DataFrame(word_list, columns=['word', 'porter', 'snowball'])\n",
    "words_df"
   ]
  },
  {
   "cell_type": "markdown",
   "metadata": {},
   "source": [
    "We can observe here how better the snowball stemmer behaves against the porter stemmer."
   ]
  },
  {
   "cell_type": "code",
   "execution_count": null,
   "metadata": {},
   "outputs": [],
   "source": []
  }
 ],
 "metadata": {
  "kernelspec": {
   "display_name": "Python 3",
   "language": "python",
   "name": "python3"
  },
  "language_info": {
   "codemirror_mode": {
    "name": "ipython",
    "version": 3
   },
   "file_extension": ".py",
   "mimetype": "text/x-python",
   "name": "python",
   "nbconvert_exporter": "python",
   "pygments_lexer": "ipython3",
   "version": "3.7.4"
  }
 },
 "nbformat": 4,
 "nbformat_minor": 2
}
